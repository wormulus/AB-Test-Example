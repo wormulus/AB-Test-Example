# Load libraries
import pandas as pd
import numpy as np
import matplotlib.pyplot as plt
import seaborn as sns
import statsmodels.api as sm

# Read in the data
df = pd.read_csv('test_data.csv')

# Print the first five rows
print(df.head())

# Create a scatter plot of score vs completed
plt.scatter(df.completed, df.score)

# Show then clear plot
plt.show()
plt.clf()

# Fit a linear regression to predict score based on prior lessons completed
model = sm.OLS.from_formula('score ~ completed', data=df)
results = model.fit()
print(results.params)

# Intercept interpretation:
# 0 completed will give a score of 13.2

# Slope interpretation:
# for every item completed, score will increase by 1.3 on average 

# Plot the scatter plot with the line on top
plt.scatter(df.completed, df.score)
plt.plot(df.completed, results.predict(df))

# Show then clear plot
plt.show()
plt.clf()

# Predict score for learner who has completed 20 prior lessons
pred20 = results.params[0] + results.params[1]*20
print(pred20)
# Calculate fitted values
fitted_values = results.predict(df)

# Calculate residuals
residuals = df.score -fitted_values

# Check normality assumption
plt.hist(residuals)
# Show then clear the plot
plt.show()
plt.clf()
# Check homoscedasticity assumption
plt.scatter(fitted_values,residuals)
# Show then clear the plot
plt.show()
plt.clf()
# Create a boxplot of score vs lesson
sns.boxplot(x = 'lesson', y = 'score', data = codecademy)
# Show then clear plot
plt.show()
plt.clf()

# Fit a linear regression to predict score based on which lesson they took
model = sm.OLS.from_formula('score ~ lesson', data = codecademy)
results = model.fit()
print(results.params)

# Calculate and print the group means and mean difference (for comparison)
meanA=np.mean(codecademy.score[codecademy.lesson == 'Lesson A'])
meanB=np.mean(codecademy.score[codecademy.lesson == 'Lesson B'])
mean_diff = meanA-meanB
print("Mean quiz score for lesson A:")
print(meanA)
print("Mean quiz score for lesson B:")
print(meanB)
print("Mean difference:")
print(mean_diff)

# Use `sns.lmplot()` to plot `score` vs. `completed` colored by `lesson`
sns.lmplot(x = 'completed', y = 'score', hue = 'lesson', data = codecademy)
plt.show()
